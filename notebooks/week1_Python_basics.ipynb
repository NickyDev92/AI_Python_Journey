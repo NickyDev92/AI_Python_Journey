{
 "cells": [
  {
   "cell_type": "markdown",
   "id": "910f913e",
   "metadata": {},
   "source": [
    "# Week 1 – Python Setup & Basics\n",
    "This notebook covers my first week of Python practice:\n",
    "- Printing output  \n",
    "- Variables & data types  \n",
    "- Loops & conditions  \n",
    "- Functions  \n",
    "- Basic OOP concepts"
   ]
  },
  {
   "cell_type": "code",
   "execution_count": 4,
   "id": "11717829",
   "metadata": {},
   "outputs": [
    {
     "name": "stdout",
     "output_type": "stream",
     "text": [
      "Hello, World! 👋\n"
     ]
    }
   ],
   "source": [
    "# Hello World test\n",
    "print(\"Hello, World! 👋\")\n"
   ]
  },
  {
   "cell_type": "code",
   "execution_count": 5,
   "id": "4f0dc968",
   "metadata": {},
   "outputs": [
    {
     "name": "stdout",
     "output_type": "stream",
     "text": [
      "My name is Nick and I am 33 years old.\n",
      "You're an adult!\n"
     ]
    }
   ],
   "source": [
    "# Simple variable example\n",
    "name = \"Nick\"\n",
    "age = 33\n",
    "print(f\"My name is {name} and I am {age} years old.\")\n",
    "\n",
    "# Conditional\n",
    "if age > 18:\n",
    "    print(\"You're an adult!\")\n"
   ]
  },
  {
   "cell_type": "code",
   "execution_count": 6,
   "id": "1e59de59",
   "metadata": {},
   "outputs": [
    {
     "name": "stdout",
     "output_type": "stream",
     "text": [
      "Welcome to Week 1, Nick!\n"
     ]
    }
   ],
   "source": [
    "# Simple function\n",
    "def greet_user(name):\n",
    "    return f\"Welcome to Week 1, {name}!\"\n",
    "\n",
    "print(greet_user(\"Nick\"))\n"
   ]
  },
  {
   "cell_type": "code",
   "execution_count": 7,
   "id": "66be4aba",
   "metadata": {},
   "outputs": [
    {
     "name": "stdout",
     "output_type": "stream",
     "text": [
      "My name is Nick, and I am 33 years old.\n",
      "My BMI is 23.41\n"
     ]
    }
   ],
   "source": [
    "name = \"Nick\"\n",
    "age = 33\n",
    "height = 1.92\n",
    "weight = 86.3\n",
    "\n",
    "bmi = weight / (height ** 2)\n",
    "print(f\"My name is {name}, and I am {age} years old.\")\n",
    "print(f\"My BMI is {bmi:.2f}\")\n"
   ]
  },
  {
   "cell_type": "code",
   "execution_count": 8,
   "id": "5e670d9a",
   "metadata": {},
   "outputs": [
    {
     "name": "stdout",
     "output_type": "stream",
     "text": [
      "You're an adult.\n"
     ]
    }
   ],
   "source": [
    "age = int(input(\"Enter your age: \"))\n",
    "\n",
    "if age < 18:\n",
    "    print(\"You're a minor.\")\n",
    "elif age < 65:\n",
    "    print(\"You're an adult.\")\n",
    "else:\n",
    "    print(\"You're a senior.\")\n"
   ]
  },
  {
   "cell_type": "code",
   "execution_count": 9,
   "id": "84954329",
   "metadata": {},
   "outputs": [
    {
     "name": "stdout",
     "output_type": "stream",
     "text": [
      "Nice to meet you, Nick! I like Pizza too.\n"
     ]
    }
   ],
   "source": [
    "name = input(\"What is your name? \")\n",
    "food = input(\"What is your favorite food? \")\n",
    "\n",
    "print(f\"Nice to meet you, {name}! I like {food} too.\")\n"
   ]
  }
 ],
 "metadata": {
  "kernelspec": {
   "display_name": ".venv",
   "language": "python",
   "name": "python3"
  },
  "language_info": {
   "codemirror_mode": {
    "name": "ipython",
    "version": 3
   },
   "file_extension": ".py",
   "mimetype": "text/x-python",
   "name": "python",
   "nbconvert_exporter": "python",
   "pygments_lexer": "ipython3",
   "version": "3.12.7"
  }
 },
 "nbformat": 4,
 "nbformat_minor": 5
}
