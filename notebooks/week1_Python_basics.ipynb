{
 "cells": [
  {
   "cell_type": "code",
   "execution_count": null,
   "id": "11717829",
   "metadata": {},
   "outputs": [
    {
     "name": "stdout",
     "output_type": "stream",
     "text": [
      "Hello, World! 👋\n"
     ]
    }
   ],
   "source": [
    "# Hello World test\n",
    "print(\"Hello, World! 👋\")\n"
   ]
  },
  {
   "cell_type": "markdown",
   "id": "910f913e",
   "metadata": {},
   "source": [
    "# Week 1 – Python Setup & Basics 🐍\n",
    "\n",
    "This week marks the official start of my **AI_Python_Journey**.  \n",
    "The goal is to master Python fundamentals and develop clean, well-documented code.\n",
    "\n",
    "---\n",
    "\n",
    "### 🎯 Weekly Objectives\n",
    "- Understand Python syntax and how to run code in Jupyter Notebooks.\n",
    "- Practice printing output, variables, and data types.\n",
    "- Learn how to use operators, conditionals, and loops.\n",
    "- Write simple functions and use arguments.\n",
    "- Get introduced to basic Object-Oriented Programming (OOP) concepts.\n",
    "\n",
    "---\n",
    "\n",
    "### 📚 Topics Covered\n",
    "1. Printing output  \n",
    "2. Variables & data types  \n",
    "3. Operators & expressions  \n",
    "4. Conditionals (`if`, `elif`, `else`)  \n",
    "5. Loops (`for`, `while`)  \n",
    "6. Functions and scope  \n",
    "7. Basic OOP introduction (classes & objects)\n",
    "\n",
    "---\n",
    "\n",
    "### 🧠 Learning Strategy\n",
    "Each day I will:\n",
    "1. Study a focused concept or group of concepts.\n",
    "2. Write small, executable examples that follow PEP 8.\n",
    "3. Add detailed comments and docstrings for clarity.\n",
    "4. Commit progress to GitHub at the end of the day.\n",
    "\n",
    "---\n",
    "\n",
    "### 🏁 End-of-Week Goals\n",
    "- Be confident with Python syntax and logic.\n",
    "- Build at least one **mini automation script** using what I’ve learned.\n",
    "- Keep the codebase organized, readable, and version-controlled.\n",
    "\n",
    "---"
   ]
  },
  {
   "cell_type": "code",
   "execution_count": null,
   "id": "4f0dc968",
   "metadata": {},
   "outputs": [
    {
     "name": "stdout",
     "output_type": "stream",
     "text": [
      "My name is Nick and I am 33 years old.\n",
      "You're an adult!\n"
     ]
    }
   ],
   "source": [
    "# Simple variable example\n",
    "name = \"Nick\"\n",
    "age = 33\n",
    "print(f\"My name is {name} and I am {age} years old.\")\n",
    "\n",
    "# Conditional\n",
    "if age > 18:\n",
    "    print(\"You're an adult!\")\n"
   ]
  },
  {
   "cell_type": "code",
   "execution_count": null,
   "id": "1e59de59",
   "metadata": {},
   "outputs": [
    {
     "name": "stdout",
     "output_type": "stream",
     "text": [
      "Welcome to Week 1, Nick!\n"
     ]
    }
   ],
   "source": [
    "# Simple function\n",
    "def greet_user(name):\n",
    "    return f\"Welcome to Week 1, {name}!\"\n",
    "\n",
    "print(greet_user(\"Nick\"))\n"
   ]
  },
  {
   "cell_type": "code",
   "execution_count": null,
   "id": "66be4aba",
   "metadata": {},
   "outputs": [
    {
     "name": "stdout",
     "output_type": "stream",
     "text": [
      "My name is Nick, and I am 33 years old.\n",
      "My BMI is 23.41\n"
     ]
    }
   ],
   "source": [
    "name = \"Nick\"\n",
    "age = 33\n",
    "height = 1.92\n",
    "weight = 86.3\n",
    "\n",
    "bmi = weight / (height ** 2)\n",
    "print(f\"My name is {name}, and I am {age} years old.\")\n",
    "print(f\"My BMI is {bmi:.2f}\")\n"
   ]
  },
  {
   "cell_type": "code",
   "execution_count": null,
   "id": "5e670d9a",
   "metadata": {},
   "outputs": [
    {
     "name": "stdout",
     "output_type": "stream",
     "text": [
      "You're an adult.\n"
     ]
    }
   ],
   "source": [
    "age = int(input(\"Enter your age: \"))\n",
    "\n",
    "if age < 18:\n",
    "    print(\"You're a minor.\")\n",
    "elif age < 65:\n",
    "    print(\"You're an adult.\")\n",
    "else:\n",
    "    print(\"You're a senior.\")\n"
   ]
  },
  {
   "cell_type": "code",
   "execution_count": null,
   "id": "84954329",
   "metadata": {},
   "outputs": [
    {
     "name": "stdout",
     "output_type": "stream",
     "text": [
      "Nice to meet you, Nick! I like Pizza too.\n"
     ]
    }
   ],
   "source": [
    "name = input(\"What is your name? \")\n",
    "food = input(\"What is your favorite food? \")\n",
    "\n",
    "print(f\"Nice to meet you, {name}! I like {food} too.\")\n"
   ]
  }
 ],
 "metadata": {
  "kernelspec": {
   "display_name": ".venv",
   "language": "python",
   "name": "python3"
  },
  "language_info": {
   "codemirror_mode": {
    "name": "ipython",
    "version": 3
   },
   "file_extension": ".py",
   "mimetype": "text/x-python",
   "name": "python",
   "nbconvert_exporter": "python",
   "pygments_lexer": "ipython3",
   "version": "3.12.7"
  }
 },
 "nbformat": 4,
 "nbformat_minor": 5
}
